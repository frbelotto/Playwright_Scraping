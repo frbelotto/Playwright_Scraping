{
 "cells": [
  {
   "cell_type": "code",
   "execution_count": 4,
   "metadata": {},
   "outputs": [],
   "source": [
    "#read extraction results\n",
    "import pandas as pd\n",
    "from pathlib import Path\n",
    "import glob\n",
    "pathfixo = Path().absolute()\n",
    "pathextração = ('Data extraction\\\\')\n",
    "pastaextração = Path.joinpath(pathfixo, pathextração)\n",
    "pathinput = ('Data input\\\\')\n",
    "pastainput = Path.joinpath(pathfixo, pathinput)\n",
    "\n",
    "\n",
    "files_extraction = glob.glob(f\"{pastaextração}\\\\*.json\")\n",
    "df = []\n",
    "for f in files_extraction:\n",
    "    json = pd.read_json(f)\n",
    "    df.append(json)\n",
    "df_extraction = pd.concat(df, ignore_index=True)\n",
    "\n",
    "higher_similarity = df_extraction.groupby(['productId'])['similarity_ratio'].max().reset_index()\n",
    "\n",
    "dfclean = pd.merge(df_extraction,higher_similarity,how='inner',  on= ['productId','similarity_ratio'])\n",
    "\n",
    "dfclean = dfclean.drop(dfclean.loc[(dfclean['similarity_ratio'] <= 0.01) | (dfclean['rating'] < 2)].index)\n",
    "\n",
    "#dfclean.head()"
   ]
  },
  {
   "cell_type": "code",
   "execution_count": 5,
   "metadata": {},
   "outputs": [],
   "source": [
    "# read input rows\n",
    "\n",
    "input = pd.read_json(f'{pastainput}\\\\result.json')\n",
    "#input = pd.read_json(r'C:\\Users\\fabio\\OneDrive\\Python\\Playwright_Scraping\\Data input\\result.json')\n",
    "df = pd.json_normalize(input['data']['productSearch']['products'])\n",
    "item_list = []\n",
    "for row in df.iterrows():\n",
    "    item_detail = {\n",
    "        'productId' : row[1]['productId'],\n",
    "        'productName' : row[1]['productName'],\n",
    "        'itemId' : row[1]['items'][0]['itemId'],\n",
    "        'ean' : row[1]['items'][0]['ean'],\n",
    "        'sellername' : row[1]['items'][0]['sellers'][0]['sellerName'],\n",
    "        'ListPrice' : row[1]['items'][0]['sellers'][0]['commertialOffer']['ListPrice']\n",
    "    }   \n",
    "    item_list.append(item_detail)\n",
    "df = pd.DataFrame(item_list)\n",
    "df = df.astype({'productId':'int64'})\n",
    "#df.head()\n"
   ]
  },
  {
   "cell_type": "code",
   "execution_count": 6,
   "metadata": {},
   "outputs": [],
   "source": [
    "df2 = pd.merge(df, dfclean, on='productId', validate='one_to_many')\n",
    "df2[['productId', 'productName','ListPrice','title','current_price', 'url', 'similarity_ratio']].to_excel('resultados.xlsx')\n",
    "#df2.head()"
   ]
  }
 ],
 "metadata": {
  "kernelspec": {
   "display_name": ".venv",
   "language": "python",
   "name": "python3"
  },
  "language_info": {
   "codemirror_mode": {
    "name": "ipython",
    "version": 3
   },
   "file_extension": ".py",
   "mimetype": "text/x-python",
   "name": "python",
   "nbconvert_exporter": "python",
   "pygments_lexer": "ipython3",
   "version": "3.12.9"
  }
 },
 "nbformat": 4,
 "nbformat_minor": 2
}
